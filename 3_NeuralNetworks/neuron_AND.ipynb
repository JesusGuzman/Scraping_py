{
 "cells": [
  {
   "cell_type": "code",
   "execution_count": 1,
   "metadata": {
    "collapsed": true
   },
   "outputs": [],
   "source": [
    "#Neurona Basica AND"
   ]
  },
  {
   "cell_type": "code",
   "execution_count": 2,
   "metadata": {
    "collapsed": true
   },
   "outputs": [],
   "source": [
    "# importamos la libreria\n",
    "import tensorflow as tf\n",
    "\n",
    "# importamos librerías adicionales\n",
    "import numpy as np\n",
    "import matplotlib.pyplot as plt\n",
    "import matplotlib.cm as cm\n",
    "import pandas as pd"
   ]
  },
  {
   "cell_type": "code",
   "execution_count": 3,
   "metadata": {
    "collapsed": true
   },
   "outputs": [],
   "source": [
    "#La salida de esta neurona es de la siguiente forma:\n",
    "# a=f(−1.5+x1+x2)"
   ]
  },
  {
   "cell_type": "code",
   "execution_count": 4,
   "metadata": {
    "collapsed": true
   },
   "outputs": [],
   "source": [
    "# Defino las entradas\n",
    "entradas = tf.placeholder(\"float\", name='Entradas')\n",
    "datos = np.array([[0, 0]\n",
    "                 ,[1, 0]\n",
    "                 ,[0, 1]\n",
    "                 ,[1, 1]])"
   ]
  },
  {
   "cell_type": "code",
   "execution_count": 5,
   "metadata": {
    "collapsed": true
   },
   "outputs": [],
   "source": [
    "# Defino las salidas\n",
    "uno = lambda: tf.constant(1.0)\n",
    "cero = lambda: tf.constant(0.0)"
   ]
  },
  {
   "cell_type": "code",
   "execution_count": 6,
   "metadata": {
    "collapsed": true
   },
   "outputs": [],
   "source": [
    "with tf.name_scope('Pesos'):\n",
    "    # Definiendo pesos y sesgo\n",
    "    pesos = tf.placeholder(\"float\", name='Pesos')\n",
    "    sesgo = tf.placeholder(\"float\", name='Sesgo')"
   ]
  },
  {
   "cell_type": "code",
   "execution_count": 7,
   "metadata": {
    "collapsed": true
   },
   "outputs": [],
   "source": [
    "with tf.name_scope('Activacion'):\n",
    "    # Función de activación\n",
    "    activacion = tf.reduce_sum(tf.add(tf.matmul(entradas, pesos), sesgo))"
   ]
  },
  {
   "cell_type": "code",
   "execution_count": 8,
   "metadata": {
    "collapsed": true
   },
   "outputs": [],
   "source": [
    "with tf.name_scope('Neurona'):\n",
    "    # Defino la neurona\n",
    "    def neurona():\n",
    "        return tf.case([(tf.less(activacion, 0.0), cero)], default=uno)"
   ]
  },
  {
   "cell_type": "code",
   "execution_count": 9,
   "metadata": {
    "collapsed": true
   },
   "outputs": [],
   "source": [
    "    # Salida\n",
    "    a = neurona()"
   ]
  },
  {
   "cell_type": "code",
   "execution_count": 10,
   "metadata": {
    "collapsed": true
   },
   "outputs": [],
   "source": [
    "# path de logs\n",
    "logs_path = '/tmp/tensorflow_logs/neurona'"
   ]
  },
  {
   "cell_type": "code",
   "execution_count": 12,
   "metadata": {},
   "outputs": [
    {
     "data": {
      "text/html": [
       "<div>\n",
       "<style>\n",
       "    .dataframe thead tr:only-child th {\n",
       "        text-align: right;\n",
       "    }\n",
       "\n",
       "    .dataframe thead th {\n",
       "        text-align: left;\n",
       "    }\n",
       "\n",
       "    .dataframe tbody tr th {\n",
       "        vertical-align: top;\n",
       "    }\n",
       "</style>\n",
       "<table border=\"1\" class=\"dataframe\">\n",
       "  <thead>\n",
       "    <tr style=\"text-align: right;\">\n",
       "      <th></th>\n",
       "      <th>x1</th>\n",
       "      <th>x2</th>\n",
       "      <th>f(x)</th>\n",
       "      <th>x1 AND x2</th>\n",
       "    </tr>\n",
       "  </thead>\n",
       "  <tbody>\n",
       "    <tr>\n",
       "      <th>0</th>\n",
       "      <td>0.0</td>\n",
       "      <td>0.0</td>\n",
       "      <td>-1.5</td>\n",
       "      <td>0.0</td>\n",
       "    </tr>\n",
       "    <tr>\n",
       "      <th>1</th>\n",
       "      <td>1.0</td>\n",
       "      <td>0.0</td>\n",
       "      <td>-0.5</td>\n",
       "      <td>0.0</td>\n",
       "    </tr>\n",
       "    <tr>\n",
       "      <th>2</th>\n",
       "      <td>0.0</td>\n",
       "      <td>1.0</td>\n",
       "      <td>-0.5</td>\n",
       "      <td>0.0</td>\n",
       "    </tr>\n",
       "    <tr>\n",
       "      <th>3</th>\n",
       "      <td>1.0</td>\n",
       "      <td>1.0</td>\n",
       "      <td>0.5</td>\n",
       "      <td>1.0</td>\n",
       "    </tr>\n",
       "  </tbody>\n",
       "</table>\n",
       "</div>"
      ],
      "text/plain": [
       "    x1   x2  f(x)  x1 AND x2\n",
       "0  0.0  0.0  -1.5        0.0\n",
       "1  1.0  0.0  -0.5        0.0\n",
       "2  0.0  1.0  -0.5        0.0\n",
       "3  1.0  1.0   0.5        1.0"
      ]
     },
     "execution_count": 12,
     "metadata": {},
     "output_type": "execute_result"
    }
   ],
   "source": [
    "# Lanzar la Sesion\n",
    "with tf.Session() as sess:\n",
    "    # para armar el grafo\n",
    "    summary_writer = tf.summary.FileWriter(logs_path, \n",
    "                                             graph=sess.graph)\n",
    "    # para armar tabla de verdad\n",
    "    x_1 = []\n",
    "    x_2 = []\n",
    "    out = []\n",
    "    act = []\n",
    "    for i in range(len(datos)):\n",
    "        t = datos[i].reshape(1, 2)\n",
    "        salida, activ = sess.run([a, activacion], feed_dict={entradas: t,\n",
    "                                        pesos:np.array([[1.],[1.]]),\n",
    "                                        sesgo: -1.5})\n",
    "        # armar tabla de verdad en DataFrame\n",
    "        x_1.append(t[0][0])\n",
    "        x_2.append(t[0][1])\n",
    "        out.append(salida)\n",
    "        act.append(activ)\n",
    "    tabla_info = np.array([x_1, x_2, act, out]).transpose()\n",
    "    tabla = pd.DataFrame(tabla_info, \n",
    "                         columns=['x1', 'x2', 'f(x)', 'x1 AND x2'])\n",
    "tabla"
   ]
  }
 ],
 "metadata": {
  "kernelspec": {
   "display_name": "Python 2",
   "language": "python",
   "name": "python2"
  },
  "language_info": {
   "codemirror_mode": {
    "name": "ipython",
    "version": 2
   },
   "file_extension": ".py",
   "mimetype": "text/x-python",
   "name": "python",
   "nbconvert_exporter": "python",
   "pygments_lexer": "ipython2",
   "version": "2.7.13"
  }
 },
 "nbformat": 4,
 "nbformat_minor": 2
}
